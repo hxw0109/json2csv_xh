{
 "cells": [
  {
   "cell_type": "code",
   "execution_count": null,
   "metadata": {
    "collapsed": true
   },
   "outputs": [],
   "source": []
  },
  {
   "cell_type": "code",
   "execution_count": 12,
   "metadata": {
    "collapsed": false
   },
   "outputs": [
    {
     "data": {
      "text/plain": [
       "'\\n# Get data associated to \"usages\"\\n\\n'"
      ]
     },
     "execution_count": 12,
     "metadata": {},
     "output_type": "execute_result"
    }
   ],
   "source": [
    "import json, pprint, operator, datetime\n",
    "from functools import reduce\n",
    "from datetime import datetime\n",
    "\n",
    "fp = open('vehiclemonitoringalpha-export.json', 'r')\n",
    "rawData = json.load(fp)\n",
    "# pprint.pprint(rawData, depth=2)\n",
    "\n",
    "\n",
    "# Function to get list data\n",
    "def getDataFromJson (data, mapList):\n",
    "    return reduce(operator.getitem, mapList, data)\n",
    "\n",
    "# Reference time difference between python and swift\n",
    "timeRefPython = datetime(1970,1,1,0,0,0)\n",
    "timeRefSwift = datetime(2001,1,1,0,0,0)\n",
    "deltaT_in_seconds = (timeRefSwift-timeRefPython).total_seconds()\n",
    "\n",
    "# Vehicle list\n",
    "vehicleList = [\"AVL Vehicle 2\", \"Ford HiL\", \"Talus' Car\", \"X's Car\"]\n",
    "\n",
    "# Get data associated to \"vehicle\"\n",
    "vehicleDuration = []\n",
    "vehicleUsage = []\n",
    "vehicleDataRaw = getDataFromJson(rawData, [\"vehicle\"])\n",
    "for vehicle in vehicleDataRaw:\n",
    "    duration = vehicleDataRaw[vehicle]['duration']/3600 # in hours\n",
    "    usage = vehicleDataRaw[vehicle]['durationInVehicle']/3600 # in hours\n",
    "    vehicleDuration.append(duration)\n",
    "    vehicleUsage.append(usage)\n",
    "\n",
    "# Get data associated to \"activities\"\n",
    "activityDataRaw = getDataFromJson(rawData, [\"activities\"])\n",
    "activities = {}\n",
    "for vehicle in activityDataRaw:\n",
    "    activities[vehicle] = {'category':[] , 'duration':[], 'durationInVehicle':[], 'username':[]}\n",
    "    for item in activityDataRaw[vehicle]:\n",
    "        activities[vehicle]['category'].append(activityDataRaw[vehicle][item]['category'])\n",
    "        activities[vehicle]['duration'].append(activityDataRaw[vehicle][item]['duration']/60) # in minutes\n",
    "        activities[vehicle]['durationInVehicle'].append(activityDataRaw[vehicle][item]['durationInVehicle']/60) # in minutes\n",
    "        activities[vehicle]['username'].append(activityDataRaw[vehicle][item]['username'])\n",
    "\n",
    "\"\"\"\n",
    "# Get data associated to \"usages\"\n",
    "\n",
    "\"\"\"\n",
    "\n"
   ]
  },
  {
   "cell_type": "code",
   "execution_count": 16,
   "metadata": {
    "collapsed": false
   },
   "outputs": [
    {
     "data": {
      "text/html": [
       "<iframe id=\"igraph\" scrolling=\"no\" style=\"border:none;\" seamless=\"seamless\" src=\"https://plot.ly/~hux/20.embed\" height=\"525px\" width=\"100%\"></iframe>"
      ],
      "text/plain": [
       "<plotly.tools.PlotlyDisplay object>"
      ]
     },
     "execution_count": 16,
     "metadata": {},
     "output_type": "execute_result"
    }
   ],
   "source": [
    "import plotly.plotly as py\n",
    "import plotly.graph_objs as go\n",
    "\n",
    "trace1 = go.Bar(\n",
    "            x = vehicleList,\n",
    "            y = vehicleDuration,\n",
    "            name = 'Total Time'\n",
    "    )\n",
    "trace2 = go.Bar(\n",
    "            x = vehicleList,\n",
    "            y = vehicleUsage\n",
    "    )\n",
    "data = [trace1, trace2]\n",
    "layout = go.Layout\n"
   ]
  },
  {
   "cell_type": "code",
   "execution_count": null,
   "metadata": {
    "collapsed": true
   },
   "outputs": [],
   "source": []
  }
 ],
 "metadata": {
  "kernelspec": {
   "display_name": "Python 3",
   "language": "python",
   "name": "python3"
  },
  "language_info": {
   "codemirror_mode": {
    "name": "ipython",
    "version": 3
   },
   "file_extension": ".py",
   "mimetype": "text/x-python",
   "name": "python",
   "nbconvert_exporter": "python",
   "pygments_lexer": "ipython3",
   "version": "3.6.0"
  }
 },
 "nbformat": 4,
 "nbformat_minor": 2
}
